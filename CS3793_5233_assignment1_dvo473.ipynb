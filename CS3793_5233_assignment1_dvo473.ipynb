{
  "nbformat": 4,
  "nbformat_minor": 0,
  "metadata": {
    "colab": {
      "name": "CS3793/5233_assignment1_abc123.ipynb",
      "provenance": [],
      "collapsed_sections": [],
      "include_colab_link": true
    },
    "kernelspec": {
      "name": "python3",
      "display_name": "Python 3"
    }
  },
  "cells": [
    {
      "cell_type": "markdown",
      "metadata": {
        "id": "view-in-github",
        "colab_type": "text"
      },
      "source": [
        "<a href=\"https://colab.research.google.com/github/michaelchapa/ai_a1_coronaVirus_Texas_search/blob/master/CS3793_5233_assignment1_dvo473.ipynb\" target=\"_parent\"><img src=\"https://colab.research.google.com/assets/colab-badge.svg\" alt=\"Open In Colab\"/></a>"
      ]
    },
    {
      "cell_type": "markdown",
      "metadata": {
        "id": "9wUL_Fy5qUDI",
        "colab_type": "text"
      },
      "source": [
        "# UTSA CS 3793/5233: Assignment-1\n",
        "\n",
        "Summer 2020\n",
        "\n",
        "\n",
        "**Chapa - Michael - (dvo473)**\n",
        "\n",
        "\n",
        "\n",
        "\n"
      ]
    },
    {
      "cell_type": "markdown",
      "metadata": {
        "id": "NM8b9KVYsETT",
        "colab_type": "text"
      },
      "source": [
        "## Learning Objectives\n",
        "\n",
        "\n",
        "*   Read data from a file and Create a graph\n",
        "*   Implement Uninformed & Informed searching strategies\n",
        "*   Apply different searching strategies for the given problem\n",
        "*   Analyze and Compare the searching strategies\n"
      ]
    },
    {
      "cell_type": "markdown",
      "metadata": {
        "id": "LzR4Ic34zJlT",
        "colab_type": "text"
      },
      "source": [
        "\n",
        "## Description\n",
        "\n",
        "This assignment is focused on **python file reading, graph creation** and implementation of **search algorithms**. \n",
        "In the following sections, you will complete a series of tasks for a made up problem of *Coronavirus in Texas*.\n",
        "\n",
        "*   Coronavirus is non-discriminatory, in the sense that it can spread from one city to any other city. The only goal of the virus is to spread to all cities in Texas. Find a possible way for the virus to spread (Uninformed Search).\n",
        "*   To counter the effect of the virus, a vaccine was developed and brought to a port city of Texas. The vaccine should be distributed in the fastest way possible to the worst affect city of Texas. Find an **optimal** strategy to distribute the vaccine (Informed Search).\n",
        "\n",
        "The base structure and comments are provided on what should be done. You can use some libraries that help support you for the successful completion of the assignment. However, you **CANNOT** use a complete library for the search algorithms. You can get pieces of code from online, but please cite the source properly.\n"
      ]
    },
    {
      "cell_type": "markdown",
      "metadata": {
        "id": "YeYRnesWqvLm",
        "colab_type": "text"
      },
      "source": [
        "#Reading Data Files & Creating a 2D Graph\n",
        "\n",
        "##(40 points)\n",
        "\n",
        "In this section, you will write code to read the data files provided, cities.csv and distances.csv, and create a 2D graph consisting of nodes and edges. The goal is to use this graph for the 2 search agents that you will create in the next section.\n",
        "\n",
        "Provided with this lab, on Blackboard, you will find 2 csv files:\n",
        "\n",
        "*   **cities.csv** - This file contains a list of coordinates for selected cities in Texas, in the following format:\n",
        "```\n",
        "San Antonio,29.4685,-98.5254\n",
        "```\n",
        "The above line means that San Antonio is located at the latitude and longitude of 29.4685 N and 98.5254 W respectively. Note that the '-ve' sign denotes 'S' for latitude and 'W' for longitude. While performing calculations you will need to ignore the sign.\n",
        "\n",
        "*   **distances.csv** - This file contains straight-line distance values between two cities of Texas, if a path exists, in the following format:\n",
        "```\n",
        "San Antonio,New Braunfels,30.80876734\n",
        "```\n",
        "The above line denotes that there should be an edge between *San Antonio* and *New Braunfels* and the weight on that edge, i.e. the distance, is *30.80876734*.\n",
        "\n",
        "In the code blocks below, handle the logic for the graph. Load the graph data from the give files and display a 2D graph of the given data, with labeled nodes and edges. Create as many functions or code blocks as needed.\n",
        "\n",
        "##Extra Credit (4 points)\n",
        "\n",
        "Overlay the 2D graph on an image of the Texas state map.\n",
        "\n",
        "\n",
        "\n"
      ]
    },
    {
      "cell_type": "code",
      "metadata": {
        "id": "f9apbZGptej6",
        "colab_type": "code",
        "colab": {}
      },
      "source": [
        "# Add only your imports here\n",
        "import numpy as np\n",
        "import pandas as pd\n",
        "import matplotlib.pyplot as plt\n",
        "import networkx as nx"
      ],
      "execution_count": 189,
      "outputs": []
    },
    {
      "cell_type": "code",
      "metadata": {
        "id": "YdPwgSBOtb1P",
        "colab_type": "code",
        "colab": {}
      },
      "source": [
        "# Load data from Michael Chapa's github project\n",
        "distances = pd.read_csv('https://raw.githubusercontent.com/michaelchapa/ai_a1_coronaVirus_Texas_search/master/distances.csv', names = [\"city1\", \"city2\", \"distance\"])\n",
        "cities = pd.read_csv('https://raw.githubusercontent.com/michaelchapa/ai_a1_coronaVirus_Texas_search/master/cities.csv', names = [\"city\", \"latitude\", \"longitude\"])"
      ],
      "execution_count": 190,
      "outputs": []
    },
    {
      "cell_type": "code",
      "metadata": {
        "id": "HsPCrkwIn7MN",
        "colab_type": "code",
        "colab": {
          "base_uri": "https://localhost:8080/",
          "height": 35
        },
        "outputId": "1ae1d8b7-b238-4231-b159-d11d22380293"
      },
      "source": [
        "# Display a 2D graph of the given data.\n",
        "coordinates = cities.iloc[:, 1:]\n",
        "\n",
        "graph = nx.Graph()\n",
        "for index, row in distances.iterrows():\n",
        "  graph.add_edge(row[0], row[1], weight = row[2])\n",
        "\n",
        "# Infect all nodes\n",
        "[n for n in graph.neighbors('Galveston')]\n"
      ],
      "execution_count": 191,
      "outputs": [
        {
          "output_type": "execute_result",
          "data": {
            "text/plain": [
              "['Houston', 'Jamaica Beach']"
            ]
          },
          "metadata": {
            "tags": []
          },
          "execution_count": 191
        }
      ]
    },
    {
      "cell_type": "markdown",
      "metadata": {
        "id": "onnqJYTEq0l3",
        "colab_type": "text"
      },
      "source": [
        "#Virus Spread - Uninformed Search Agent\n",
        "\n",
        "##(40 points)\n",
        "\n",
        "In this section, you will use the graph created in the previous section and create an *uninformed search* agent that will print the path how the virus will spread to all the provided Texas cities. The first confirmed case of the virus was in **Three Rivers** and starts spreading from there. The virus does not discriminate and it needs to spread to all the cities of Texas.\n",
        "\n",
        "In the following code block, write code to implement **any** uninformed search strategy. You are free to create more code blocks if needed. As the output, print\n",
        "\n",
        "*   The path or sequence of cities that will be infected by the spread of Coronavirus.\n",
        "*   The distance travelled by the selected virus spreading strategy.\n",
        "\n",
        "##Extra Credit (3 points)\n",
        "On the 2D graph and the Texas state map, overlay the selected path along with the cities visited."
      ]
    },
    {
      "cell_type": "code",
      "metadata": {
        "id": "ZehjHBvd6W3O",
        "colab_type": "code",
        "colab": {}
      },
      "source": [
        ""
      ],
      "execution_count": 191,
      "outputs": []
    },
    {
      "cell_type": "code",
      "metadata": {
        "id": "XELGzRDftS77",
        "colab_type": "code",
        "colab": {}
      },
      "source": [
        "# Implement ANY uninformed search strategy for the spread of coronavirus from the starting city of 'Three Rivers'\n",
        "\n"
      ],
      "execution_count": 192,
      "outputs": []
    },
    {
      "cell_type": "markdown",
      "metadata": {
        "id": "YCsUNyl3KWrb",
        "colab_type": "text"
      },
      "source": [
        "#Vaccine Distribution - Informed Search Agent\n",
        "\n",
        "##(40 points)\n",
        "\n",
        "In this section, you will create an *informed search* agent that will be used to distribute the vaccine. The vaccine was developed outside US and brought to Texas at the port city of **Corpus Christi**. The goal is to create an **optimal strategy** to distribute the vaccine and make it available at the most affected city **Amarillo**.\n",
        "\n",
        "In the following code block, write code to implement an **optimal** informed search strategy. You are free to create more code blocks if needed. As the output, print \n",
        "\n",
        "*   The path or sequence of cities that will be visited in the optimal vaccine distribution strategy.\n",
        "*   The total distance travelled in the optimal vaccine distribution strategy.\n",
        "\n",
        "\n",
        "##Extra Credit (3 points)\n",
        "On the 2D graph and the Texas state map, overlay the selected path along with the cities visited."
      ]
    },
    {
      "cell_type": "code",
      "metadata": {
        "id": "oYcy29SdK3Xn",
        "colab_type": "code",
        "colab": {}
      },
      "source": [
        "# Implement an OPTIMAL informed search strategy for distributing the vaccine from 'Corpus Chriti' to 'Amarillo'\n",
        "\n"
      ],
      "execution_count": 193,
      "outputs": []
    },
    {
      "cell_type": "markdown",
      "metadata": {
        "id": "YJSFgNBQrhQU",
        "colab_type": "text"
      },
      "source": [
        "#Submission Instructions\n",
        "\n",
        "\n",
        "\n",
        "1.   Complete all tasks above.\n",
        "2.   Export this notebook as .ipynb\n",
        "      (File > Download as ipynb)\n",
        "3.   Upload the .ipynb file on Blackboard\n",
        "\n"
      ]
    },
    {
      "cell_type": "markdown",
      "metadata": {
        "id": "0lGvLE9H6ptL",
        "colab_type": "text"
      },
      "source": [
        "##Rubric\n",
        "\n",
        "*   (40 points) Reading Data files & Creating a 2D Graph\n",
        "*   (40 points) Virus Spread - Uninformed Search Agent\n",
        "*   (40 points) Vaccine Distribution - Informed Search Agent\n",
        "*   (10 points) Extra Credit - on the Texas map image, overlay the 2D graph and the paths selected by the search agents\n",
        "\n",
        "\n",
        "\n"
      ]
    },
    {
      "cell_type": "markdown",
      "metadata": {
        "id": "8jqKNwFTf9t7",
        "colab_type": "text"
      },
      "source": [
        "Works Cited<br>\n",
        "[Load CSV](https://towardsdatascience.com/3-ways-to-load-csv-files-into-colab-7c14fcbdcb92)\n",
        "\n",
        "[Plot on map](https://towardsdatascience.com/easy-steps-to-plot-geographic-data-on-a-map-python-11217859a2db)"
      ]
    }
  ]
}